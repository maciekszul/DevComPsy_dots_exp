{
 "cells": [
  {
   "cell_type": "code",
   "execution_count": 2,
   "id": "7a65c003",
   "metadata": {},
   "outputs": [],
   "source": [
    "from pathlib import Path\n",
    "from exp_util import randomisation, save_dict_as_json, update_json_file, plot_staircase_results, load_json, get_directories, get_files, get_max, get_median"
   ]
  },
  {
   "cell_type": "code",
   "execution_count": 34,
   "id": "519ab952",
   "metadata": {},
   "outputs": [],
   "source": [
    "scale_boundaries = { # hold, max\n",
    "    0: [1.2, 0.5],  # left\n",
    "    1: [1.2, 0.5]   # right\n",
    "}"
   ]
  },
  {
   "cell_type": "code",
   "execution_count": 35,
   "id": "4bdd4cc7",
   "metadata": {},
   "outputs": [],
   "source": [
    "update_json_file(\"/home/maciek/git/DevComPsy_dots_exp/data/sub-666/counterfactual_staircase-sub-666-calibration-1750923221.085643.json\", {\"scale_boundaries\": scale_boundaries})"
   ]
  },
  {
   "cell_type": "code",
   "execution_count": null,
   "id": "d8c4509f",
   "metadata": {},
   "outputs": [],
   "source": []
  },
  {
   "cell_type": "code",
   "execution_count": null,
   "id": "13f795a5",
   "metadata": {},
   "outputs": [],
   "source": []
  }
 ],
 "metadata": {
  "kernelspec": {
   "display_name": "basic",
   "language": "python",
   "name": "python3"
  },
  "language_info": {
   "codemirror_mode": {
    "name": "ipython",
    "version": 3
   },
   "file_extension": ".py",
   "mimetype": "text/x-python",
   "name": "python",
   "nbconvert_exporter": "python",
   "pygments_lexer": "ipython3",
   "version": "3.12.8"
  }
 },
 "nbformat": 4,
 "nbformat_minor": 5
}
